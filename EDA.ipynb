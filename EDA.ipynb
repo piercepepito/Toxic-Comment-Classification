{
 "cells": [
  {
   "cell_type": "markdown",
   "metadata": {},
   "source": [
    "# Toxic Comment Classification EDA\n",
    "\n",
    "In this notebook, we'll be understanding the dataset and find out any patterns within the comments, find any correlations between toxic comment classification tags, and check how clean our dataset is.\n",
    "\n",
    "Note: Some of the ideas in here are taken from [Jagan](https://www.kaggle.com/jagangupta/stop-the-s-toxic-comments-eda), which are the heatmap, and using the 'clean' feature."
   ]
  },
  {
   "cell_type": "code",
   "execution_count": 37,
   "metadata": {
    "collapsed": true
   },
   "outputs": [],
   "source": [
    "import pandas as pd\n",
    "import numpy as n\n",
    "\n",
    "import matplotlib.pyplot as plt\n",
    "import seaborn as sns\n",
    "\n",
    "import re\n",
    "\n",
    "from vaderSentiment.vaderSentiment import SentimentIntensityAnalyzer\n",
    "\n",
    "%matplotlib inline"
   ]
  },
  {
   "cell_type": "code",
   "execution_count": 2,
   "metadata": {
    "collapsed": true
   },
   "outputs": [],
   "source": [
    "eda = pd.read_csv(\"input/train.csv\")"
   ]
  },
  {
   "cell_type": "code",
   "execution_count": 3,
   "metadata": {},
   "outputs": [
    {
     "data": {
      "text/plain": [
       "(159571, 8)"
      ]
     },
     "execution_count": 3,
     "metadata": {},
     "output_type": "execute_result"
    }
   ],
   "source": [
    "eda.shape"
   ]
  },
  {
   "cell_type": "code",
   "execution_count": 4,
   "metadata": {},
   "outputs": [
    {
     "data": {
      "text/plain": [
       "Index(['id', 'comment_text', 'toxic', 'severe_toxic', 'obscene', 'threat',\n",
       "       'insult', 'identity_hate'],\n",
       "      dtype='object')"
      ]
     },
     "execution_count": 4,
     "metadata": {},
     "output_type": "execute_result"
    }
   ],
   "source": [
    "eda.columns"
   ]
  },
  {
   "cell_type": "markdown",
   "metadata": {},
   "source": [
    "# What Makes A Good/Bad Comment?"
   ]
  },
  {
   "cell_type": "code",
   "execution_count": 26,
   "metadata": {
    "collapsed": true
   },
   "outputs": [],
   "source": [
    "bad_tags = eda.iloc[:, 2:].sum()\n",
    "\n",
    "rowsums= eda.iloc[:,2:].sum(axis=1)\n",
    "\n",
    "eda['clean'] = (rowsums == 0)\n",
    "binary = {True : 1, False : 0} #0 - bad comments, 1 - clean comments\n",
    "eda[\"clean\"] = eda[\"clean\"].map(binary)"
   ]
  },
  {
   "cell_type": "code",
   "execution_count": 27,
   "metadata": {},
   "outputs": [
    {
     "data": {
      "text/plain": [
       "Index(['id', 'comment_text', 'toxic', 'severe_toxic', 'obscene', 'threat',\n",
       "       'insult', 'identity_hate', 'clean'],\n",
       "      dtype='object')"
      ]
     },
     "execution_count": 27,
     "metadata": {},
     "output_type": "execute_result"
    }
   ],
   "source": [
    "eda.columns"
   ]
  },
  {
   "cell_type": "code",
   "execution_count": 30,
   "metadata": {},
   "outputs": [
    {
     "data": {
      "text/html": [
       "<div>\n",
       "<style scoped>\n",
       "    .dataframe tbody tr th:only-of-type {\n",
       "        vertical-align: middle;\n",
       "    }\n",
       "\n",
       "    .dataframe tbody tr th {\n",
       "        vertical-align: top;\n",
       "    }\n",
       "\n",
       "    .dataframe thead th {\n",
       "        text-align: right;\n",
       "    }\n",
       "</style>\n",
       "<table border=\"1\" class=\"dataframe\">\n",
       "  <thead>\n",
       "    <tr style=\"text-align: right;\">\n",
       "      <th></th>\n",
       "      <th>id</th>\n",
       "      <th>comment_text</th>\n",
       "      <th>toxic</th>\n",
       "      <th>severe_toxic</th>\n",
       "      <th>obscene</th>\n",
       "      <th>threat</th>\n",
       "      <th>insult</th>\n",
       "      <th>identity_hate</th>\n",
       "      <th>clean</th>\n",
       "    </tr>\n",
       "  </thead>\n",
       "  <tbody>\n",
       "    <tr>\n",
       "      <th>37352</th>\n",
       "      <td>63b83611e8769940</td>\n",
       "      <td>No such thing as Islamic mathematics \\n\\nThe r...</td>\n",
       "      <td>0</td>\n",
       "      <td>0</td>\n",
       "      <td>0</td>\n",
       "      <td>0</td>\n",
       "      <td>0</td>\n",
       "      <td>0</td>\n",
       "      <td>1</td>\n",
       "    </tr>\n",
       "    <tr>\n",
       "      <th>86739</th>\n",
       "      <td>e800e087be99c895</td>\n",
       "      <td>Cleveland Street Scandal \\n\\nJames Pope Hennes...</td>\n",
       "      <td>0</td>\n",
       "      <td>0</td>\n",
       "      <td>0</td>\n",
       "      <td>0</td>\n",
       "      <td>0</td>\n",
       "      <td>0</td>\n",
       "      <td>1</td>\n",
       "    </tr>\n",
       "    <tr>\n",
       "      <th>22353</th>\n",
       "      <td>3af95a148d7beec0</td>\n",
       "      <td>Also I've actually been on wikipedia for many ...</td>\n",
       "      <td>0</td>\n",
       "      <td>0</td>\n",
       "      <td>0</td>\n",
       "      <td>0</td>\n",
       "      <td>0</td>\n",
       "      <td>0</td>\n",
       "      <td>1</td>\n",
       "    </tr>\n",
       "    <tr>\n",
       "      <th>155326</th>\n",
       "      <td>bc25d572e8a74b68</td>\n",
       "      <td>|Experiencing a bad time of my life</td>\n",
       "      <td>0</td>\n",
       "      <td>0</td>\n",
       "      <td>0</td>\n",
       "      <td>0</td>\n",
       "      <td>0</td>\n",
       "      <td>0</td>\n",
       "      <td>1</td>\n",
       "    </tr>\n",
       "    <tr>\n",
       "      <th>45124</th>\n",
       "      <td>78aaff82c05bd7b8</td>\n",
       "      <td>Try to ask at the talk page for fo:Euro, Faroe...</td>\n",
       "      <td>0</td>\n",
       "      <td>0</td>\n",
       "      <td>0</td>\n",
       "      <td>0</td>\n",
       "      <td>0</td>\n",
       "      <td>0</td>\n",
       "      <td>1</td>\n",
       "    </tr>\n",
       "    <tr>\n",
       "      <th>159164</th>\n",
       "      <td>f98a2bb4ad624306</td>\n",
       "      <td>, definitely far more than you</td>\n",
       "      <td>0</td>\n",
       "      <td>0</td>\n",
       "      <td>0</td>\n",
       "      <td>0</td>\n",
       "      <td>0</td>\n",
       "      <td>0</td>\n",
       "      <td>1</td>\n",
       "    </tr>\n",
       "    <tr>\n",
       "      <th>115634</th>\n",
       "      <td>6a6e916b9c46f7d2</td>\n",
       "      <td>i wish to apologize, i am not use to this and ...</td>\n",
       "      <td>0</td>\n",
       "      <td>0</td>\n",
       "      <td>0</td>\n",
       "      <td>0</td>\n",
       "      <td>0</td>\n",
       "      <td>0</td>\n",
       "      <td>1</td>\n",
       "    </tr>\n",
       "    <tr>\n",
       "      <th>130758</th>\n",
       "      <td>bb7b7ea2ca193227</td>\n",
       "      <td>\"\\n\\nAnswer: Andrews is stated as specifically...</td>\n",
       "      <td>0</td>\n",
       "      <td>0</td>\n",
       "      <td>0</td>\n",
       "      <td>0</td>\n",
       "      <td>0</td>\n",
       "      <td>0</td>\n",
       "      <td>1</td>\n",
       "    </tr>\n",
       "    <tr>\n",
       "      <th>118121</th>\n",
       "      <td>77029e8dc81d444b</td>\n",
       "      <td>\"::*Rockpocket, please don't lecture about hat...</td>\n",
       "      <td>0</td>\n",
       "      <td>0</td>\n",
       "      <td>0</td>\n",
       "      <td>0</td>\n",
       "      <td>0</td>\n",
       "      <td>0</td>\n",
       "      <td>1</td>\n",
       "    </tr>\n",
       "    <tr>\n",
       "      <th>83756</th>\n",
       "      <td>e0255c130686abe8</td>\n",
       "      <td>\"  Editors as you and me  do not decide what i...</td>\n",
       "      <td>0</td>\n",
       "      <td>0</td>\n",
       "      <td>0</td>\n",
       "      <td>0</td>\n",
       "      <td>0</td>\n",
       "      <td>0</td>\n",
       "      <td>1</td>\n",
       "    </tr>\n",
       "  </tbody>\n",
       "</table>\n",
       "</div>"
      ],
      "text/plain": [
       "                      id                                       comment_text  \\\n",
       "37352   63b83611e8769940  No such thing as Islamic mathematics \\n\\nThe r...   \n",
       "86739   e800e087be99c895  Cleveland Street Scandal \\n\\nJames Pope Hennes...   \n",
       "22353   3af95a148d7beec0  Also I've actually been on wikipedia for many ...   \n",
       "155326  bc25d572e8a74b68                |Experiencing a bad time of my life   \n",
       "45124   78aaff82c05bd7b8  Try to ask at the talk page for fo:Euro, Faroe...   \n",
       "159164  f98a2bb4ad624306                     , definitely far more than you   \n",
       "115634  6a6e916b9c46f7d2  i wish to apologize, i am not use to this and ...   \n",
       "130758  bb7b7ea2ca193227  \"\\n\\nAnswer: Andrews is stated as specifically...   \n",
       "118121  77029e8dc81d444b  \"::*Rockpocket, please don't lecture about hat...   \n",
       "83756   e0255c130686abe8  \"  Editors as you and me  do not decide what i...   \n",
       "\n",
       "        toxic  severe_toxic  obscene  threat  insult  identity_hate  clean  \n",
       "37352       0             0        0       0       0              0      1  \n",
       "86739       0             0        0       0       0              0      1  \n",
       "22353       0             0        0       0       0              0      1  \n",
       "155326      0             0        0       0       0              0      1  \n",
       "45124       0             0        0       0       0              0      1  \n",
       "159164      0             0        0       0       0              0      1  \n",
       "115634      0             0        0       0       0              0      1  \n",
       "130758      0             0        0       0       0              0      1  \n",
       "118121      0             0        0       0       0              0      1  \n",
       "83756       0             0        0       0       0              0      1  "
      ]
     },
     "execution_count": 30,
     "metadata": {},
     "output_type": "execute_result"
    }
   ],
   "source": [
    "#checking for a good comment\n",
    "eda[eda[\"clean\"] == 1].sample(10)"
   ]
  },
  {
   "cell_type": "markdown",
   "metadata": {},
   "source": [
    "By sampling some of the clean comments, it can be observed that:\n",
    "\n",
    "   - The tone of the comments are not aggressive. \n",
    "   - Sentiments are ranging from neutral to positive."
   ]
  },
  {
   "cell_type": "code",
   "execution_count": 32,
   "metadata": {},
   "outputs": [
    {
     "data": {
      "text/html": [
       "<div>\n",
       "<style scoped>\n",
       "    .dataframe tbody tr th:only-of-type {\n",
       "        vertical-align: middle;\n",
       "    }\n",
       "\n",
       "    .dataframe tbody tr th {\n",
       "        vertical-align: top;\n",
       "    }\n",
       "\n",
       "    .dataframe thead th {\n",
       "        text-align: right;\n",
       "    }\n",
       "</style>\n",
       "<table border=\"1\" class=\"dataframe\">\n",
       "  <thead>\n",
       "    <tr style=\"text-align: right;\">\n",
       "      <th></th>\n",
       "      <th>id</th>\n",
       "      <th>comment_text</th>\n",
       "      <th>toxic</th>\n",
       "      <th>severe_toxic</th>\n",
       "      <th>obscene</th>\n",
       "      <th>threat</th>\n",
       "      <th>insult</th>\n",
       "      <th>identity_hate</th>\n",
       "      <th>clean</th>\n",
       "    </tr>\n",
       "  </thead>\n",
       "  <tbody>\n",
       "    <tr>\n",
       "      <th>7348</th>\n",
       "      <td>1388ee1ed652eca0</td>\n",
       "      <td>You know what, this is bullshit.  Tried to do ...</td>\n",
       "      <td>1</td>\n",
       "      <td>0</td>\n",
       "      <td>1</td>\n",
       "      <td>0</td>\n",
       "      <td>0</td>\n",
       "      <td>0</td>\n",
       "      <td>0</td>\n",
       "    </tr>\n",
       "    <tr>\n",
       "      <th>28793</th>\n",
       "      <td>4c48f1a5e4138946</td>\n",
       "      <td>You need to stop changing everything Im doing ...</td>\n",
       "      <td>1</td>\n",
       "      <td>0</td>\n",
       "      <td>1</td>\n",
       "      <td>0</td>\n",
       "      <td>1</td>\n",
       "      <td>0</td>\n",
       "      <td>0</td>\n",
       "    </tr>\n",
       "    <tr>\n",
       "      <th>71748</th>\n",
       "      <td>c01dd30e5a4234ea</td>\n",
       "      <td>don't \\n\\nshit your fuck asshoul 182.16.240.42</td>\n",
       "      <td>1</td>\n",
       "      <td>0</td>\n",
       "      <td>1</td>\n",
       "      <td>0</td>\n",
       "      <td>0</td>\n",
       "      <td>0</td>\n",
       "      <td>0</td>\n",
       "    </tr>\n",
       "    <tr>\n",
       "      <th>149422</th>\n",
       "      <td>5bfd17f0c9b0046d</td>\n",
       "      <td>When the fuck are you goona change the New Eng...</td>\n",
       "      <td>1</td>\n",
       "      <td>0</td>\n",
       "      <td>1</td>\n",
       "      <td>0</td>\n",
       "      <td>0</td>\n",
       "      <td>0</td>\n",
       "      <td>0</td>\n",
       "    </tr>\n",
       "    <tr>\n",
       "      <th>40989</th>\n",
       "      <td>6d60cced80491ece</td>\n",
       "      <td>\"\\nI've had it, you ignorant fool. If it's cal...</td>\n",
       "      <td>1</td>\n",
       "      <td>0</td>\n",
       "      <td>0</td>\n",
       "      <td>0</td>\n",
       "      <td>0</td>\n",
       "      <td>0</td>\n",
       "      <td>0</td>\n",
       "    </tr>\n",
       "    <tr>\n",
       "      <th>149749</th>\n",
       "      <td>60cc467c77f3ed4f</td>\n",
       "      <td>You will not stop a JEDI KNIGHT, stop trying t...</td>\n",
       "      <td>1</td>\n",
       "      <td>0</td>\n",
       "      <td>0</td>\n",
       "      <td>0</td>\n",
       "      <td>0</td>\n",
       "      <td>0</td>\n",
       "      <td>0</td>\n",
       "    </tr>\n",
       "    <tr>\n",
       "      <th>4946</th>\n",
       "      <td>0d17ad5df146d4f2</td>\n",
       "      <td>i lookd back in history when it was put it had...</td>\n",
       "      <td>1</td>\n",
       "      <td>0</td>\n",
       "      <td>1</td>\n",
       "      <td>0</td>\n",
       "      <td>1</td>\n",
       "      <td>0</td>\n",
       "      <td>0</td>\n",
       "    </tr>\n",
       "    <tr>\n",
       "      <th>65751</th>\n",
       "      <td>afdb691bbb653ec9</td>\n",
       "      <td>I need to destroy as many articles as possible...</td>\n",
       "      <td>1</td>\n",
       "      <td>0</td>\n",
       "      <td>0</td>\n",
       "      <td>0</td>\n",
       "      <td>0</td>\n",
       "      <td>0</td>\n",
       "      <td>0</td>\n",
       "    </tr>\n",
       "    <tr>\n",
       "      <th>43308</th>\n",
       "      <td>739e86bffa0b0491</td>\n",
       "      <td>\"\\n If I was rude https://www.youtube.com/watc...</td>\n",
       "      <td>1</td>\n",
       "      <td>0</td>\n",
       "      <td>0</td>\n",
       "      <td>0</td>\n",
       "      <td>0</td>\n",
       "      <td>0</td>\n",
       "      <td>0</td>\n",
       "    </tr>\n",
       "    <tr>\n",
       "      <th>110607</th>\n",
       "      <td>4fb18d809ebbfc4b</td>\n",
       "      <td>Note to self: dick unchecked . Gravedancing. -</td>\n",
       "      <td>1</td>\n",
       "      <td>0</td>\n",
       "      <td>0</td>\n",
       "      <td>0</td>\n",
       "      <td>0</td>\n",
       "      <td>0</td>\n",
       "      <td>0</td>\n",
       "    </tr>\n",
       "    <tr>\n",
       "      <th>14799</th>\n",
       "      <td>2717bfb0ec638bea</td>\n",
       "      <td>you fucking harry potter gay porn!!!!!!! sucki...</td>\n",
       "      <td>1</td>\n",
       "      <td>0</td>\n",
       "      <td>1</td>\n",
       "      <td>0</td>\n",
       "      <td>1</td>\n",
       "      <td>1</td>\n",
       "      <td>0</td>\n",
       "    </tr>\n",
       "    <tr>\n",
       "      <th>108916</th>\n",
       "      <td>465ab9ae9fac26a7</td>\n",
       "      <td>Fuck off 1 inch weiner</td>\n",
       "      <td>1</td>\n",
       "      <td>0</td>\n",
       "      <td>1</td>\n",
       "      <td>0</td>\n",
       "      <td>0</td>\n",
       "      <td>0</td>\n",
       "      <td>0</td>\n",
       "    </tr>\n",
       "    <tr>\n",
       "      <th>149293</th>\n",
       "      <td>5a2b68e7e54155cb</td>\n",
       "      <td>WTF \\n\\nYo bro\\n\\nWhy you deleting my posts? w...</td>\n",
       "      <td>1</td>\n",
       "      <td>0</td>\n",
       "      <td>1</td>\n",
       "      <td>0</td>\n",
       "      <td>1</td>\n",
       "      <td>0</td>\n",
       "      <td>0</td>\n",
       "    </tr>\n",
       "    <tr>\n",
       "      <th>19625</th>\n",
       "      <td>33dc3f437a488af2</td>\n",
       "      <td>You are a worthless piece of shit. You must al...</td>\n",
       "      <td>1</td>\n",
       "      <td>0</td>\n",
       "      <td>1</td>\n",
       "      <td>0</td>\n",
       "      <td>1</td>\n",
       "      <td>0</td>\n",
       "      <td>0</td>\n",
       "    </tr>\n",
       "    <tr>\n",
       "      <th>49214</th>\n",
       "      <td>838d488c91ee24ff</td>\n",
       "      <td>\"\\n\\n oh why dear johnny boy part one (again) ...</td>\n",
       "      <td>1</td>\n",
       "      <td>0</td>\n",
       "      <td>1</td>\n",
       "      <td>0</td>\n",
       "      <td>1</td>\n",
       "      <td>0</td>\n",
       "      <td>0</td>\n",
       "    </tr>\n",
       "  </tbody>\n",
       "</table>\n",
       "</div>"
      ],
      "text/plain": [
       "                      id                                       comment_text  \\\n",
       "7348    1388ee1ed652eca0  You know what, this is bullshit.  Tried to do ...   \n",
       "28793   4c48f1a5e4138946  You need to stop changing everything Im doing ...   \n",
       "71748   c01dd30e5a4234ea     don't \\n\\nshit your fuck asshoul 182.16.240.42   \n",
       "149422  5bfd17f0c9b0046d  When the fuck are you goona change the New Eng...   \n",
       "40989   6d60cced80491ece  \"\\nI've had it, you ignorant fool. If it's cal...   \n",
       "149749  60cc467c77f3ed4f  You will not stop a JEDI KNIGHT, stop trying t...   \n",
       "4946    0d17ad5df146d4f2  i lookd back in history when it was put it had...   \n",
       "65751   afdb691bbb653ec9  I need to destroy as many articles as possible...   \n",
       "43308   739e86bffa0b0491  \"\\n If I was rude https://www.youtube.com/watc...   \n",
       "110607  4fb18d809ebbfc4b     Note to self: dick unchecked . Gravedancing. -   \n",
       "14799   2717bfb0ec638bea  you fucking harry potter gay porn!!!!!!! sucki...   \n",
       "108916  465ab9ae9fac26a7                             Fuck off 1 inch weiner   \n",
       "149293  5a2b68e7e54155cb  WTF \\n\\nYo bro\\n\\nWhy you deleting my posts? w...   \n",
       "19625   33dc3f437a488af2  You are a worthless piece of shit. You must al...   \n",
       "49214   838d488c91ee24ff  \"\\n\\n oh why dear johnny boy part one (again) ...   \n",
       "\n",
       "        toxic  severe_toxic  obscene  threat  insult  identity_hate  clean  \n",
       "7348        1             0        1       0       0              0      0  \n",
       "28793       1             0        1       0       1              0      0  \n",
       "71748       1             0        1       0       0              0      0  \n",
       "149422      1             0        1       0       0              0      0  \n",
       "40989       1             0        0       0       0              0      0  \n",
       "149749      1             0        0       0       0              0      0  \n",
       "4946        1             0        1       0       1              0      0  \n",
       "65751       1             0        0       0       0              0      0  \n",
       "43308       1             0        0       0       0              0      0  \n",
       "110607      1             0        0       0       0              0      0  \n",
       "14799       1             0        1       0       1              1      0  \n",
       "108916      1             0        1       0       0              0      0  \n",
       "149293      1             0        1       0       1              0      0  \n",
       "19625       1             0        1       0       1              0      0  \n",
       "49214       1             0        1       0       1              0      0  "
      ]
     },
     "execution_count": 32,
     "metadata": {},
     "output_type": "execute_result"
    }
   ],
   "source": [
    "#checking for bad comments\n",
    "eda[eda[\"clean\"] == 0].sample(15)"
   ]
  },
  {
   "cell_type": "markdown",
   "metadata": {},
   "source": [
    "Categorizing all non clean samples, we get:\n",
    "\n",
    "   - A lot of the non clean comments have a lot of profanity in them.\n",
    "   - The overall tone is aggressive and is aimed to hurt the receiver of the comment.\n",
    "   - They all show a highly negative sentiment.\n",
    "\n",
    "It can also be seen that there may be some linear correlation between these toxic classification tags, since whenever the comment is classified is toxic, it can also be classified as obscene as well. \n",
    "\n",
    "Let's check this by looking at a heatmap."
   ]
  },
  {
   "cell_type": "code",
   "execution_count": 36,
   "metadata": {},
   "outputs": [
    {
     "data": {
      "text/plain": [
       "Text(0.5,1,'Correlation Between Toxic Classification Tags')"
      ]
     },
     "execution_count": 36,
     "metadata": {},
     "output_type": "execute_result"
    },
    {
     "data": {
      "image/png": "[encoded data removed]",
      "text/plain": [
       "<Figure size 864x576 with 2 Axes>"
      ]
     },
     "metadata": {},
     "output_type": "display_data"
    }
   ],
   "source": [
    "plt.figure(figsize = (12, 8))\n",
    "sns.heatmap(eda.iloc[:, 2:-1].corr(), annot = True)\n",
    "\n",
    "plt.title(\"Correlation Between Toxic Classification Tags\", fontsize = 16)"
   ]
  },
  {
   "cell_type": "markdown",
   "metadata": {},
   "source": [
    "In the graph above, it is shown that the following classificatio tags are correlated:\n",
    "\n",
    "   - Obscene and Toxic\n",
    "   - Insult and Toxic\n",
    "   - Insult and Obscene\n",
    "   \n",
    "Next, let's find out if our observations in the last section, are correct if clean and non-clean coments can be separated by their sentiment scores."
   ]
  },
  {
   "cell_type": "code",
   "execution_count": 43,
   "metadata": {},
   "outputs": [
    {
     "name": "stderr",
     "output_type": "stream",
     "text": [
      "C:\\Users\\Pierce\\Anaconda3\\lib\\site-packages\\matplotlib\\axes\\_axes.py:6462: UserWarning: The 'normed' kwarg is deprecated, and has been replaced by the 'density' kwarg.\n",
      "  warnings.warn(\"The 'normed' kwarg is deprecated, and has been \"\n"
     ]
    },
    {
     "data": {
      "text/plain": [
       "<matplotlib.legend.Legend at 0x1d32a198cc0>"
      ]
     },
     "execution_count": 43,
     "metadata": {},
     "output_type": "execute_result"
    },
    {
     "data": {
      "image/png": "[encoded data removed]",
      "text/plain": [
       "<Figure size 864x432 with 1 Axes>"
      ]
     },
     "metadata": {},
     "output_type": "display_data"
    }
   ],
   "source": [
    "sentiment = SentimentIntensityAnalyzer()\n",
    "\n",
    "toxic_vs_clean = []\n",
    "\n",
    "for index in eda.index:\n",
    "    toxic_vs_clean.append(sentiment.polarity_scores(eda.iloc[index, 1]))\n",
    "    \n",
    "data = pd.concat([pd.DataFrame(toxic_vs_clean), eda[\"clean\"]], axis =1)\n",
    "\n",
    "g = sns.FacetGrid(data, hue = \"clean\")\n",
    "g.map(sns.distplot, \"compound\")\n",
    "g.fig.set_size_inches(12, 6)\n",
    "\n",
    "plt.legend()"
   ]
  },
  {
   "cell_type": "markdown",
   "metadata": {},
   "source": [
    "The sentiment of each comment is measured by using the VaderSentimentAnalyzer from NLTK. It is a lexcon based algorithm wherein, there is a large corpus that associates each word with a weight if it is negative or not. The compound scores for this algorithm is between -1 to 1, where the former is a negative comment while the latter is otherwise.\n",
    "\n",
    "For the graph above, it can be shown that somehow observations found on the last section is correct. However, there are still overlaps between negative and positive comments because of the Vader Sentiment is using a lexicon based classifier, and does not look into the structure of the corpus.\n",
    "\n",
    "Lastly, let's take a look at the length of each comment if it can affect the classification."
   ]
  },
  {
   "cell_type": "code",
   "execution_count": 47,
   "metadata": {},
   "outputs": [
    {
     "name": "stderr",
     "output_type": "stream",
     "text": [
      "C:\\Users\\Pierce\\Anaconda3\\lib\\site-packages\\matplotlib\\axes\\_axes.py:6462: UserWarning: The 'normed' kwarg is deprecated, and has been replaced by the 'density' kwarg.\n",
      "  warnings.warn(\"The 'normed' kwarg is deprecated, and has been \"\n"
     ]
    },
    {
     "data": {
      "text/plain": [
       "<matplotlib.legend.Legend at 0x1d32348a358>"
      ]
     },
     "execution_count": 47,
     "metadata": {},
     "output_type": "execute_result"
    },
    {
     "data": {
      "image/png": "[encoded data removed]",
      "text/plain": [
       "<Figure size 864x432 with 1 Axes>"
      ]
     },
     "metadata": {},
     "output_type": "display_data"
    }
   ],
   "source": [
    "eda[\"str_length\"] = eda[\"comment_text\"].str.len()\n",
    "\n",
    "g = sns.FacetGrid(eda, hue =\"clean\")\n",
    "g.map(sns.distplot, \"str_length\")\n",
    "g.fig.set_size_inches(12, 6)\n",
    "\n",
    "plt.legend()"
   ]
  },
  {
   "cell_type": "markdown",
   "metadata": {},
   "source": [
    "Apparently, length of the comment does not separate the clean and the toxic comments well.\n",
    "\n",
    "On to the next section! We'll be checking for any noise within the data and any anomalies that can be found in the comments."
   ]
  },
  {
   "cell_type": "markdown",
   "metadata": {},
   "source": [
    "# How Clean Is The Data?"
   ]
  },
  {
   "cell_type": "code",
   "execution_count": 15,
   "metadata": {},
   "outputs": [
    {
     "data": {
      "text/plain": [
       "33683       And two WEEKS?! Bit of an abuse of power there.\n",
       "65066     Eelam War IV \\n\\nCould you please see Eelam Wa...\n",
       "115957    This is not true. Before the beginning of the ...\n",
       "95080                           I will correct 141 to 14:1.\n",
       "53051     He is bad man! He makes much vandalism! 177.15...\n",
       "68469     http://en.wikipedia.org/wiki/Towns_in_the_Form...\n",
       "153325    At the risk of sounding repetitive, I would li...\n",
       "129511    \"\\n\\n Regarding the ip 8.2.215.2 \\n\\n8.2.215.2...\n",
       "104439    I am really confused about this.  There are so...\n",
       "32167     Beat me to the sign fix\\nWas just putting in t...\n",
       "56155     \"\\n\\nReviewing edits\\nHi Endofskull,\\n\\nIt app...\n",
       "75448     Okay, we have now heard from the parties invol...\n",
       "20827     Would you like to be nominated for Sysop \\n\\nH...\n",
       "1556      \"\\n\\n Happy Valentine's day, dear Aaron! \\n\\nH...\n",
       "140306    Finally, mention how many Germans lived in Ser...\n",
       "Name: comment_text, dtype: object"
      ]
     },
     "execution_count": 15,
     "metadata": {},
     "output_type": "execute_result"
    }
   ],
   "source": [
    "np.random.seed(10)\n",
    "\n",
    "eda[\"comment_text\"].sample(15, random_state = 10)"
   ]
  },
  {
   "cell_type": "markdown",
   "metadata": {},
   "source": [
    "### From these samples, here are some observations:\n",
    "    \n",
    "   - There are IP addresses found at the end of the corpus.\n",
    "   - One comment only has an HTML link as its corpus.\n",
    "   - Usernames are also found, look at example #11.\n",
    "   - Presence of numerical characters.\n",
    "   - Some words are all capitalized.\n",
    "   - Other comments have time stamps in them.\n",
    "   - Email addresses are also being used.\n",
    "   - There are also words that are comprised of a single letter but is not part of the english dictionary.\n",
    "   \n",
    "### Now, how do these noises affect the performance of the algorithm?\n",
    "\n",
    "When converting text into their numerical representations such as: bag of words model, term frequency - inverse document frequency, or word embeddings, it worth noting that a dataset filled with wrong spellings, and uneccesary terms can be very detrimental to any learning algorithm. This is because every unique word is treated differently, so wrongly spelled words will be categorized differntly by the computer and adding unecessary terms such as IP addresses and timestamps would lead the learning algorithm to think that it holds meaningful information when in fact, it does not.\n",
    "\n",
    "### Pre - Processing\n",
    "\n",
    "Cleaning of data will be done by:\n",
    "    \n",
    "   - Replacing some of the words into one uniform word:\n",
    "        - Emoji's\n",
    "        - Abbreviations\n",
    "        - HTML tags\n",
    "        - Email Addresses\n",
    "   - Removing noisy text, such as:\n",
    "        - Filename extensions\n",
    "        - IP addresses\n",
    "        - Hashtags\n",
    "        - Multiple whitespaces"
   ]
  }
 ],
 "metadata": {
  "kernelspec": {
   "display_name": "Python 3",
   "language": "python",
   "name": "python3"
  },
  "language_info": {
   "codemirror_mode": {
    "name": "ipython",
    "version": 3
   },
   "file_extension": ".py",
   "mimetype": "text/x-python",
   "name": "python",
   "nbconvert_exporter": "python",
   "pygments_lexer": "ipython3",
   "version": "3.6.3"
  }
 },
 "nbformat": 4,
 "nbformat_minor": 2
}
